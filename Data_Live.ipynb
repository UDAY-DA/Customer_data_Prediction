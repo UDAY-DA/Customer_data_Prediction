{
 "cells": [
  {
   "cell_type": "code",
   "execution_count": null,
   "metadata": {},
   "outputs": [],
   "source": [
    "import pandas as pd\n",
    "import numpy as np\n",
    "import matplotlib.pyplot as plt\n",
    "import seaborn as sns\n",
    "%matplotlib inline"
   ]
  },
  {
   "cell_type": "code",
   "execution_count": null,
   "metadata": {},
   "outputs": [],
   "source": [
    "import pandas as pd\n",
    "pd.set_option('display.max_rows', 500)\n",
    "pd.set_option('display.max_columns', 500)\n",
    "pd.set_option('display.width', 1000)"
   ]
  },
  {
   "cell_type": "code",
   "execution_count": null,
   "metadata": {},
   "outputs": [],
   "source": [
    "df=pd.read_csv('customersdata.csv')\n",
    "df.head()"
   ]
  },
  {
   "cell_type": "code",
   "execution_count": null,
   "metadata": {},
   "outputs": [],
   "source": [
    "df.dtypes"
   ]
  },
  {
   "cell_type": "code",
   "execution_count": null,
   "metadata": {},
   "outputs": [],
   "source": [
    "pct_null = df.isnull().sum() / len(df)\n",
    "missing_features = pct_null[pct_null > 0.80].index\n",
    "df.drop(missing_features, axis=1, inplace=True)"
   ]
  },
  {
   "cell_type": "code",
   "execution_count": null,
   "metadata": {},
   "outputs": [],
   "source": [
    "df.columns"
   ]
  },
  {
   "cell_type": "code",
   "execution_count": null,
   "metadata": {},
   "outputs": [],
   "source": [
    "df.shape"
   ]
  },
  {
   "cell_type": "code",
   "execution_count": null,
   "metadata": {},
   "outputs": [],
   "source": [
    "df.head(10)"
   ]
  },
  {
   "cell_type": "code",
   "execution_count": null,
   "metadata": {},
   "outputs": [],
   "source": [
    "def missing(dff):\n",
    "    print (round((dff.isnull().sum() * 100/ len(dff)),2).sort_values(ascending=False))\n",
    "missing(df)"
   ]
  },
  {
   "cell_type": "code",
   "execution_count": null,
   "metadata": {},
   "outputs": [],
   "source": [
    "new = df[\"customer/customerEmail\"].str.split('@', n = 1, expand = True) \n",
    "df[\"Name\"]= new[0] \n",
    "df[\"Email\"]= new[1] \n",
    "df.drop(columns =[\"customer/customerEmail\"], inplace = True) "
   ]
  },
  {
   "cell_type": "code",
   "execution_count": null,
   "metadata": {},
   "outputs": [],
   "source": [
    "df.head()"
   ]
  },
  {
   "cell_type": "code",
   "execution_count": null,
   "metadata": {},
   "outputs": [],
   "source": [
    "df.columns"
   ]
  },
  {
   "cell_type": "code",
   "execution_count": null,
   "metadata": {},
   "outputs": [],
   "source": [
    "df.head()"
   ]
  },
  {
   "cell_type": "code",
   "execution_count": null,
   "metadata": {},
   "outputs": [],
   "source": [
    "df=df.drop(['orders/2/orderId','paymentMethods/1/paymentMethodId','paymentMethods/2/paymentMethodId','transactions/2/transactionId','transactions/2/orderId','transactions/2/paymentMethodId','transactions/3/transactionId','transactions/3/orderId','transactions/3/paymentMethodId','transactions/4/transactionId','transactions/4/orderId','transactions/4/paymentMethodId','orders/3/orderId','orders/4/orderId','transactions/4/transactionId','transactions/4/orderId','transactions/4/paymentMethodId'], axis=1)"
   ]
  },
  {
   "cell_type": "code",
   "execution_count": null,
   "metadata": {},
   "outputs": [],
   "source": [
    "df.head(20)"
   ]
  },
  {
   "cell_type": "code",
   "execution_count": null,
   "metadata": {},
   "outputs": [],
   "source": [
    "df.shape"
   ]
  },
  {
   "cell_type": "code",
   "execution_count": null,
   "metadata": {},
   "outputs": [],
   "source": [
    "def missing(dff):\n",
    "    print (round((dff.isnull().sum() * 100/ len(dff)),2).sort_values(ascending=False))\n",
    "missing(df)"
   ]
  },
  {
   "cell_type": "code",
   "execution_count": null,
   "metadata": {},
   "outputs": [],
   "source": [
    "pct_null = df.isnull().sum() / len(df)\n",
    "missing_features = pct_null[pct_null > 30].index\n",
    "df.drop(missing_features, axis=1, inplace=True)"
   ]
  },
  {
   "cell_type": "code",
   "execution_count": null,
   "metadata": {},
   "outputs": [],
   "source": [
    "def missing(dff):\n",
    "    print (round((dff.isnull().sum() * 100/ len(dff)),2).sort_values(ascending=False))\n",
    "missing(df)"
   ]
  },
  {
   "cell_type": "code",
   "execution_count": null,
   "metadata": {},
   "outputs": [],
   "source": [
    "df=df.drop(['orders/3/orderState','orders/3/orderAmount','transactions/4/transactionFailed','transactions/4/transactionAmount','orders/3/orderShippingAddress','paymentMethods/1/paymentMethodRegistrationFailure','paymentMethods/1/paymentMethodIssuer','paymentMethods/1/paymentMethodProvider','paymentMethods/1/paymentMethodType','transactions/3/transactionFailed','transactions/3/transactionAmount'], axis=1)"
   ]
  },
  {
   "cell_type": "code",
   "execution_count": null,
   "metadata": {},
   "outputs": [],
   "source": [
    "df.info()"
   ]
  },
  {
   "cell_type": "code",
   "execution_count": null,
   "metadata": {},
   "outputs": [],
   "source": [
    "df.head()"
   ]
  },
  {
   "cell_type": "code",
   "execution_count": null,
   "metadata": {},
   "outputs": [],
   "source": [
    "df = df[pd.notnull(df['orders/0/orderAmount'])]"
   ]
  },
  {
   "cell_type": "code",
   "execution_count": null,
   "metadata": {},
   "outputs": [],
   "source": [
    "df.head()"
   ]
  },
  {
   "cell_type": "code",
   "execution_count": null,
   "metadata": {},
   "outputs": [],
   "source": [
    "df.loc[df['orders/0/orderShippingAddress'].isnull(),'orders/0/orderShippingAddress'] = df['customer/customerBillingAddress']"
   ]
  },
  {
   "cell_type": "code",
   "execution_count": null,
   "metadata": {},
   "outputs": [],
   "source": [
    "df.head()"
   ]
  },
  {
   "cell_type": "code",
   "execution_count": null,
   "metadata": {},
   "outputs": [],
   "source": [
    "df.loc[df['orders/1/orderShippingAddress'].isnull(),'orders/1/orderShippingAddress'] = df['customer/customerBillingAddress']"
   ]
  },
  {
   "cell_type": "code",
   "execution_count": null,
   "metadata": {},
   "outputs": [],
   "source": [
    "df.head()"
   ]
  },
  {
   "cell_type": "code",
   "execution_count": null,
   "metadata": {},
   "outputs": [],
   "source": [
    "df.isnull().sum()"
   ]
  },
  {
   "cell_type": "code",
   "execution_count": null,
   "metadata": {},
   "outputs": [],
   "source": [
    "df.loc[df['orders/2/orderShippingAddress'].isnull(),'orders/2/orderShippingAddress'] = df['customer/customerBillingAddress']"
   ]
  },
  {
   "cell_type": "code",
   "execution_count": null,
   "metadata": {},
   "outputs": [],
   "source": [
    "df.isnull().sum()"
   ]
  },
  {
   "cell_type": "code",
   "execution_count": null,
   "metadata": {},
   "outputs": [],
   "source": [
    "#creates a random permuation of the categorical values\n",
    "permutation = np.random.permutation(df['transactions/2/transactionFailed'])\n",
    "#erase the empty values\n",
    "empty_is = np.where(permutation ==\"\")\n",
    "permutation = np.delete(permutation, empty_is)\n",
    "#replace all empty values of the dataframe[field]\n",
    "end = len(permutation)\n",
    "df['transactions/2/transactionFailed'] = df['transactions/2/transactionFailed'].apply(lambda x: permutation[np.random.randint(end)] if pd.isnull(x) else x)"
   ]
  },
  {
   "cell_type": "code",
   "execution_count": null,
   "metadata": {},
   "outputs": [],
   "source": [
    "#creates a random permuation of the categorical values\n",
    "permutation = np.random.permutation(df['orders/2/orderState'])\n",
    "#erase the empty values\n",
    "empty_is = np.where(permutation ==\"\")\n",
    "permutation = np.delete(permutation, empty_is)\n",
    "#replace all empty values of the dataframe[field]\n",
    "end = len(permutation)\n",
    "df['orders/2/orderState'] = df['orders/2/orderState'].apply(lambda x: permutation[np.random.randint(end)] if pd.isnull(x) else x)"
   ]
  },
  {
   "cell_type": "code",
   "execution_count": null,
   "metadata": {},
   "outputs": [],
   "source": [
    "#creates a random permuation of the categorical values\n",
    "permutation = np.random.permutation(df['orders/1/orderState'])\n",
    "#erase the empty values\n",
    "empty_is = np.where(permutation ==\"\")\n",
    "permutation = np.delete(permutation, empty_is)\n",
    "#replace all empty values of the dataframe[field]\n",
    "end = len(permutation)\n",
    "df['orders/1/orderState'] = df['orders/1/orderState'].apply(lambda x: permutation[np.random.randint(end)] if pd.isnull(x) else x)"
   ]
  },
  {
   "cell_type": "code",
   "execution_count": null,
   "metadata": {},
   "outputs": [],
   "source": [
    "#creates a random permuation of the categorical values\n",
    "permutation = np.random.permutation(df['transactions/1/transactionFailed'])\n",
    "#erase the empty values\n",
    "empty_is = np.where(permutation ==\"\")\n",
    "permutation = np.delete(permutation, empty_is)\n",
    "#replace all empty values of the dataframe[field]\n",
    "end = len(permutation)\n",
    "df['transactions/1/transactionFailed'] = df['transactions/1/transactionFailed'].apply(lambda x: permutation[np.random.randint(end)] if pd.isnull(x) else x)"
   ]
  },
  {
   "cell_type": "code",
   "execution_count": null,
   "metadata": {},
   "outputs": [],
   "source": [
    "df.isnull().sum()"
   ]
  },
  {
   "cell_type": "code",
   "execution_count": null,
   "metadata": {},
   "outputs": [],
   "source": [
    "df.head(50)"
   ]
  },
  {
   "cell_type": "code",
   "execution_count": null,
   "metadata": {},
   "outputs": [],
   "source": [
    "new = df[\"customer/customerBillingAddress\"].str.split(',', n = 1, expand = True) \n",
    "df[\"Name\"]= new[0] \n",
    "df[\"Coustmer_Billing\"]= new[1] \n",
    "df.drop(columns =[\"customer/customerBillingAddress\"], inplace = True) "
   ]
  },
  {
   "cell_type": "code",
   "execution_count": null,
   "metadata": {},
   "outputs": [],
   "source": [
    "new = df[\"orders/0/orderShippingAddress\"].str.split(',', n = 1, expand = True) \n",
    "df[\"Name\"]= new[0] \n",
    "df[\"Order0_Shipping\"]= new[1] \n",
    "df.drop(columns =[\"orders/0/orderShippingAddress\"], inplace = True) "
   ]
  },
  {
   "cell_type": "code",
   "execution_count": null,
   "metadata": {},
   "outputs": [],
   "source": [
    "new = df[\"orders/1/orderShippingAddress\"].str.split(',', n = 1, expand = True) \n",
    "df[\"Name\"]= new[0] \n",
    "df[\"Order1_Shipping\"]= new[1] \n",
    "df.drop(columns =[\"orders/1/orderShippingAddress\"], inplace = True) "
   ]
  },
  {
   "cell_type": "code",
   "execution_count": null,
   "metadata": {},
   "outputs": [],
   "source": [
    "new = df[\"orders/2/orderShippingAddress\"].str.split(',', n = 1, expand = True) \n",
    "df[\"Name\"]= new[0] \n",
    "df[\"Order2_Shipping\"]= new[1] \n",
    "df.drop(columns =[\"orders/2/orderShippingAddress\"], inplace = True) "
   ]
  },
  {
   "cell_type": "code",
   "execution_count": null,
   "metadata": {},
   "outputs": [],
   "source": [
    "df.head(50)"
   ]
  },
  {
   "cell_type": "code",
   "execution_count": null,
   "metadata": {},
   "outputs": [],
   "source": [
    "df.isnull().sum()"
   ]
  },
  {
   "cell_type": "code",
   "execution_count": null,
   "metadata": {},
   "outputs": [],
   "source": [
    "#creates a random permuation of the categorical values\n",
    "permutation = np.random.permutation(df['Coustmer_Billing'])\n",
    "#erase the empty values\n",
    "empty_is = np.where(permutation ==\"\")\n",
    "permutation = np.delete(permutation, empty_is)\n",
    "#replace all empty values of the dataframe[field]\n",
    "end = len(permutation)\n",
    "df['Coustmer_Billing'] = df['Coustmer_Billing'].apply(lambda x: permutation[np.random.randint(end)] if pd.isnull(x) else x)"
   ]
  },
  {
   "cell_type": "code",
   "execution_count": null,
   "metadata": {},
   "outputs": [],
   "source": [
    "#creates a random permuation of the categorical values\n",
    "permutation = np.random.permutation(df['Order0_Shipping'])\n",
    "#erase the empty values\n",
    "empty_is = np.where(permutation ==\"\")\n",
    "permutation = np.delete(permutation, empty_is)\n",
    "#replace all empty values of the dataframe[field]\n",
    "end = len(permutation)\n",
    "df['Order0_Shipping'] = df['Order0_Shipping'].apply(lambda x: permutation[np.random.randint(end)] if pd.isnull(x) else x)"
   ]
  },
  {
   "cell_type": "code",
   "execution_count": null,
   "metadata": {},
   "outputs": [],
   "source": [
    "#creates a random permuation of the categorical values\n",
    "permutation = np.random.permutation(df['Order1_Shipping'])\n",
    "#erase the empty values\n",
    "empty_is = np.where(permutation ==\"\")\n",
    "permutation = np.delete(permutation, empty_is)\n",
    "#replace all empty values of the dataframe[field]\n",
    "end = len(permutation)\n",
    "df['Order1_Shipping'] = df['Order1_Shipping'].apply(lambda x: permutation[np.random.randint(end)] if pd.isnull(x) else x)"
   ]
  },
  {
   "cell_type": "code",
   "execution_count": null,
   "metadata": {},
   "outputs": [],
   "source": [
    "#creates a random permuation of the categorical values\n",
    "permutation = np.random.permutation(df['Order2_Shipping'])\n",
    "#erase the empty values\n",
    "empty_is = np.where(permutation ==\"\")\n",
    "permutation = np.delete(permutation, empty_is)\n",
    "#replace all empty values of the dataframe[field]\n",
    "end = len(permutation)\n",
    "df['Order2_Shipping'] = df['Order2_Shipping'].apply(lambda x: permutation[np.random.randint(end)] if pd.isnull(x) else x)"
   ]
  },
  {
   "cell_type": "code",
   "execution_count": null,
   "metadata": {},
   "outputs": [],
   "source": [
    "df.isnull().sum()"
   ]
  },
  {
   "cell_type": "code",
   "execution_count": null,
   "metadata": {},
   "outputs": [],
   "source": [
    "df.head(50)"
   ]
  },
  {
   "cell_type": "code",
   "execution_count": null,
   "metadata": {},
   "outputs": [],
   "source": [
    "df=df.drop(['customer/customerPhone','customer/customerDevice','customer/customerIPAddress','orders/0/orderId','orders/1/orderId','paymentMethods/0/paymentMethodId','transactions/0/transactionId','transactions/0/orderId','transactions/0/paymentMethodId','transactions/1/transactionId','transactions/1/orderId','transactions/1/paymentMethodId','orders/4/orderShippingAddress','transactions/5/transactionId','transactions/5/orderId','transactions/5/paymentMethodId'],axis=1)"
   ]
  },
  {
   "cell_type": "code",
   "execution_count": null,
   "metadata": {},
   "outputs": [],
   "source": [
    "df.head(50)"
   ]
  },
  {
   "cell_type": "code",
   "execution_count": null,
   "metadata": {},
   "outputs": [],
   "source": [
    "df=df.drop(['Name'],axis=1)"
   ]
  },
  {
   "cell_type": "code",
   "execution_count": null,
   "metadata": {},
   "outputs": [],
   "source": [
    "df.isnull().sum()"
   ]
  },
  {
   "cell_type": "code",
   "execution_count": null,
   "metadata": {},
   "outputs": [],
   "source": [
    "df=df.drop(['paymentMethods/2/paymentMethodRegistrationFailure','paymentMethods/2/paymentMethodType','paymentMethods/2/paymentMethodIssuer','paymentMethods/2/paymentMethodProvider','orders/4/orderAmount','orders/4/orderState','transactions/5/transactionAmount','transactions/5/transactionFailed'],axis=1)"
   ]
  },
  {
   "cell_type": "code",
   "execution_count": null,
   "metadata": {},
   "outputs": [],
   "source": [
    "df.head(50)"
   ]
  },
  {
   "cell_type": "code",
   "execution_count": null,
   "metadata": {},
   "outputs": [],
   "source": [
    "df.isnull().sum()"
   ]
  },
  {
   "cell_type": "code",
   "execution_count": null,
   "metadata": {},
   "outputs": [],
   "source": [
    "#X=df[['orders/0/orderAmount','orders/1/orderAmount','transactions/0/transactionAmount','transactions/1/transactionAmount','orders/2/orderAmount','transactions/2/transactionAmount']]"
   ]
  },
  {
   "cell_type": "code",
   "execution_count": null,
   "metadata": {},
   "outputs": [],
   "source": [
    "#df=df.drop(['orders/0/orderAmount','orders/1/orderAmount','transactions/0/transactionAmount','transactions/1/transactionAmount','orders/2/orderAmount','transactions/2/transactionAmount'],axis=1)"
   ]
  },
  {
   "cell_type": "code",
   "execution_count": null,
   "metadata": {},
   "outputs": [],
   "source": [
    "df.head()"
   ]
  },
  {
   "cell_type": "code",
   "execution_count": null,
   "metadata": {},
   "outputs": [],
   "source": [
    "df.isnull().sum()"
   ]
  },
  {
   "cell_type": "code",
   "execution_count": null,
   "metadata": {},
   "outputs": [],
   "source": [
    "#creates a random permuation of the categorical values\n",
    "permutation = np.random.permutation(df['orders/2/orderState'])\n",
    "#erase the empty values\n",
    "empty_is = np.where(permutation ==\"\")\n",
    "permutation = np.delete(permutation, empty_is)\n",
    "#replace all empty values of the dataframe[field]\n",
    "end = len(permutation)\n",
    "df['orders/2/orderState'] = df['orders/2/orderState'].apply(lambda x: permutation[np.random.randint(end)] if pd.isnull(x) else x)"
   ]
  },
  {
   "cell_type": "code",
   "execution_count": null,
   "metadata": {},
   "outputs": [],
   "source": [
    "#creates a random permuation of the categorical values\n",
    "permutation = np.random.permutation(df['transactions/1/transactionFailed'])\n",
    "#erase the empty values\n",
    "empty_is = np.where(permutation ==\"\")\n",
    "permutation = np.delete(permutation, empty_is)\n",
    "#replace all empty values of the dataframe[field]\n",
    "end = len(permutation)\n",
    "df['transactions/1/transactionFailed'] = df['transactions/1/transactionFailed'].apply(lambda x: permutation[np.random.randint(end)] if pd.isnull(x) else x)"
   ]
  },
  {
   "cell_type": "code",
   "execution_count": null,
   "metadata": {},
   "outputs": [],
   "source": [
    "#creates a random permuation of the categorical values\n",
    "permutation = np.random.permutation(df['orders/1/orderState'])\n",
    "#erase the empty values\n",
    "empty_is = np.where(permutation ==\"\")\n",
    "permutation = np.delete(permutation, empty_is)\n",
    "#replace all empty values of the dataframe[field]\n",
    "end = len(permutation)\n",
    "df['orders/1/orderState'] = df['orders/1/orderState'].apply(lambda x: permutation[np.random.randint(end)] if pd.isnull(x) else x)"
   ]
  },
  {
   "cell_type": "code",
   "execution_count": null,
   "metadata": {},
   "outputs": [],
   "source": [
    "#creates a random permuation of the categorical values\n",
    "permutation = np.random.permutation(df['transactions/2/transactionFailed'])\n",
    "#erase the empty values\n",
    "empty_is = np.where(permutation ==\"\")\n",
    "permutation = np.delete(permutation, empty_is)\n",
    "#replace all empty values of the dataframe[field]\n",
    "end = len(permutation)\n",
    "df['transactions/2/transactionFailed'] = df['transactions/2/transactionFailed'].apply(lambda x: permutation[np.random.randint(end)] if pd.isnull(x) else x)"
   ]
  },
  {
   "cell_type": "code",
   "execution_count": null,
   "metadata": {},
   "outputs": [],
   "source": [
    "df.isnull().sum()"
   ]
  },
  {
   "cell_type": "code",
   "execution_count": null,
   "metadata": {},
   "outputs": [],
   "source": [
    "#from sklearn.preprocessing import LabelEncoder\n",
    "#df.apply(LabelEncoder().fit_transform)"
   ]
  },
  {
   "cell_type": "code",
   "execution_count": null,
   "metadata": {},
   "outputs": [],
   "source": [
    "#for col in list(df):\n",
    " #   print(col)\n",
    "  #  print(df[col].unique().sum())"
   ]
  },
  {
   "cell_type": "code",
   "execution_count": null,
   "metadata": {},
   "outputs": [],
   "source": [
    "df.head(200)"
   ]
  },
  {
   "cell_type": "code",
   "execution_count": null,
   "metadata": {},
   "outputs": [],
   "source": [
    "df[df['paymentMethods/0/paymentMethodIssuer'].apply(lambda x: len(x)<2)]['paymentMethods/0/paymentMethodIssuer']=df[df['paymentMethods/0/paymentMethodIssuer'].apply(lambda x: len(x)<2)]['paymentMethods/0/paymentMethodIssuer'].fillna('',inplace=True)"
   ]
  },
  {
   "cell_type": "code",
   "execution_count": null,
   "metadata": {},
   "outputs": [],
   "source": [
    "df.head(50)"
   ]
  },
  {
   "cell_type": "code",
   "execution_count": null,
   "metadata": {},
   "outputs": [],
   "source": [
    "df.shape"
   ]
  },
  {
   "cell_type": "code",
   "execution_count": null,
   "metadata": {},
   "outputs": [],
   "source": [
    "df.groupby('paymentMethods/0/paymentMethodIssuer').size()"
   ]
  },
  {
   "cell_type": "code",
   "execution_count": null,
   "metadata": {},
   "outputs": [],
   "source": [
    "df['paymentMethods/0/paymentMethodIssuer']=df['paymentMethods/0/paymentMethodIssuer'].replace({'B':'NaN','a':'NaN','c':'NaN','e':'NaN','o':'NaN','x':'NaN'})\n",
    "df"
   ]
  },
  {
   "cell_type": "code",
   "execution_count": null,
   "metadata": {},
   "outputs": [],
   "source": [
    "df.groupby('paymentMethods/0/paymentMethodIssuer').size()"
   ]
  },
  {
   "cell_type": "code",
   "execution_count": null,
   "metadata": {},
   "outputs": [],
   "source": [
    "df['paymentMethods/0/paymentMethodIssuer'].mode()"
   ]
  },
  {
   "cell_type": "code",
   "execution_count": null,
   "metadata": {},
   "outputs": [],
   "source": [
    "df['paymentMethods/0/paymentMethodIssuer']=df['paymentMethods/0/paymentMethodIssuer'].replace({'NaN':'Her Majesty Trust'})\n",
    "df"
   ]
  },
  {
   "cell_type": "code",
   "execution_count": null,
   "metadata": {},
   "outputs": [],
   "source": [
    "df.head()"
   ]
  },
  {
   "cell_type": "code",
   "execution_count": null,
   "metadata": {},
   "outputs": [],
   "source": [
    "df.shape"
   ]
  },
  {
   "cell_type": "code",
   "execution_count": null,
   "metadata": {},
   "outputs": [],
   "source": [
    "df.groupby('paymentMethods/0/paymentMethodType').size()"
   ]
  },
  {
   "cell_type": "code",
   "execution_count": null,
   "metadata": {},
   "outputs": [],
   "source": [
    "df.isnull().sum()"
   ]
  },
  {
   "cell_type": "code",
   "execution_count": null,
   "metadata": {},
   "outputs": [],
   "source": [
    "df.fillna(df.mean(), inplace= True)"
   ]
  },
  {
   "cell_type": "code",
   "execution_count": null,
   "metadata": {},
   "outputs": [],
   "source": [
    "df.isnull().sum()"
   ]
  },
  {
   "cell_type": "code",
   "execution_count": null,
   "metadata": {},
   "outputs": [],
   "source": [
    "df['Coustmer_Billing'] = df['Coustmer_Billing'].str.replace('\\d+', '')\n",
    "df['Coustmer_Billing'] = df['Coustmer_Billing'].str.replace('-', '')\n",
    "df['Order0_Shipping'] = df['Order0_Shipping'].str.replace('\\d+', '')\n",
    "df['Order0_Shipping'] = df['Order0_Shipping'].str.replace('-', '')\n",
    "df['Order1_Shipping'] = df['Order1_Shipping'].str.replace('\\d+', '')\n",
    "df['Order1_Shipping'] = df['Order1_Shipping'].str.replace('-', '')\n",
    "df['Order2_Shipping'] = df['Order2_Shipping'].str.replace('\\d+', '')\n",
    "df['Order2_Shipping'] = df['Order2_Shipping'].str.replace('-', '')\n",
    "\n",
    "df"
   ]
  },
  {
   "cell_type": "code",
   "execution_count": null,
   "metadata": {},
   "outputs": [],
   "source": [
    "df"
   ]
  },
  {
   "cell_type": "code",
   "execution_count": null,
   "metadata": {},
   "outputs": [],
   "source": [
    "df.shape"
   ]
  },
  {
   "cell_type": "code",
   "execution_count": null,
   "metadata": {},
   "outputs": [],
   "source": [
    "df=pd.get_dummies(df,columns=['orders/0/orderState','orders/1/orderState','paymentMethods/0/paymentMethodType','paymentMethods/0/paymentMethodProvider','paymentMethods/0/paymentMethodIssuer','orders/2/orderState','orders/2/orderState','transactions/2/transactionFailed','Email','Coustmer_Billing','Order0_Shipping','Order1_Shipping','Order2_Shipping'])"
   ]
  },
  {
   "cell_type": "code",
   "execution_count": null,
   "metadata": {},
   "outputs": [],
   "source": [
    "df"
   ]
  },
  {
   "cell_type": "code",
   "execution_count": null,
   "metadata": {},
   "outputs": [],
   "source": [
    "df.dtypes"
   ]
  },
  {
   "cell_type": "code",
   "execution_count": null,
   "metadata": {},
   "outputs": [],
   "source": [
    "x=df.drop('fraudulent',axis=1)\n",
    "y=df['fraudulent']"
   ]
  },
  {
   "cell_type": "code",
   "execution_count": null,
   "metadata": {},
   "outputs": [],
   "source": [
    "from sklearn import tree\n",
    "ctree=tree.DecisionTreeClassifier()\n",
    "ctree"
   ]
  },
  {
   "cell_type": "code",
   "execution_count": null,
   "metadata": {},
   "outputs": [],
   "source": [
    "ctree.fit(x,y)"
   ]
  },
  {
   "cell_type": "code",
   "execution_count": null,
   "metadata": {},
   "outputs": [],
   "source": [
    "ctree.feature_importances_"
   ]
  },
  {
   "cell_type": "code",
   "execution_count": null,
   "metadata": {},
   "outputs": [],
   "source": [
    "comp_df=pd.DataFrame()\n",
    "comp_df['col']=x.columns\n",
    "comp_df['imp']=ctree.feature_importances_*100\n",
    "\n",
    "comp_df=comp_df.sort_values('imp',ascending=False)\n",
    "comp_df.head(40)"
   ]
  },
  {
   "cell_type": "code",
   "execution_count": null,
   "metadata": {},
   "outputs": [],
   "source": [
    "a= comp_df.head(25)\n",
    "a.imp.sum()"
   ]
  },
  {
   "cell_type": "code",
   "execution_count": null,
   "metadata": {},
   "outputs": [],
   "source": [
    " x_cols = a['col'].tolist()\n",
    "print(x_cols)"
   ]
  },
  {
   "cell_type": "code",
   "execution_count": null,
   "metadata": {},
   "outputs": [],
   "source": [
    "x = df[a['col']]"
   ]
  },
  {
   "cell_type": "code",
   "execution_count": null,
   "metadata": {},
   "outputs": [],
   "source": [
    "x.shape"
   ]
  },
  {
   "cell_type": "code",
   "execution_count": null,
   "metadata": {},
   "outputs": [],
   "source": [
    "from sklearn.preprocessing import MinMaxScaler\n",
    "scaler=MinMaxScaler(feature_range=(0,25))\n",
    "x=scaler.fit_transform(x)\n",
    "print(x.shape)\n",
    "print(type(x))\n",
    "x"
   ]
  },
  {
   "cell_type": "code",
   "execution_count": null,
   "metadata": {},
   "outputs": [],
   "source": [
    "from sklearn.model_selection import train_test_split\n",
    "from sklearn import metrics\n",
    "x_train, x_test, y_train, y_test = train_test_split(x, y , test_size =0.25, random_state = 1 )\n",
    "ctree.fit(x_train,y_train)"
   ]
  },
  {
   "cell_type": "code",
   "execution_count": null,
   "metadata": {},
   "outputs": [],
   "source": [
    "y_train_pred = ctree.predict(x_train)\n",
    "print('Train accuracy = ', metrics.accuracy_score(y_train, y_train_pred))\n",
    "\n",
    "y_test_pred = ctree.predict(x_test)\n",
    "print('Test accuracy = ', metrics.accuracy_score(y_test, y_test_pred))"
   ]
  },
  {
   "cell_type": "code",
   "execution_count": null,
   "metadata": {},
   "outputs": [],
   "source": [
    "from sklearn.model_selection import GridSearchCV"
   ]
  },
  {
   "cell_type": "code",
   "execution_count": null,
   "metadata": {},
   "outputs": [],
   "source": [
    "param_grid = { \"criterion\"      : ['gini', 'entropy'],    \n",
    "               \"max_features\"   : [1, 2,3,4,5,6,7,8,9,10,11,12,13,14,15,16,17,18,19,20,21,22,23,24 ],             \n",
    "               \"splitter\"       : ['best', 'random'],  \n",
    "               \"min_samples_leaf\" : [2,3,4,5],\n",
    "               \"max_depth\"        : [1,2,3,4,5,6,8,9,10,11,12]\n",
    "                }\n"
   ]
  },
  {
   "cell_type": "code",
   "execution_count": null,
   "metadata": {},
   "outputs": [],
   "source": [
    "optimized_tree = GridSearchCV(ctree, param_grid,verbose = 2 , scoring = 'accuracy', cv=15)  #inplace of accuracy use scoring = 'recall'"
   ]
  },
  {
   "cell_type": "code",
   "execution_count": null,
   "metadata": {},
   "outputs": [],
   "source": [
    "optimized_tree.fit(x_train, y_train)"
   ]
  },
  {
   "cell_type": "code",
   "execution_count": null,
   "metadata": {},
   "outputs": [],
   "source": [
    "optimized_tree.best_params_"
   ]
  },
  {
   "cell_type": "code",
   "execution_count": null,
   "metadata": {},
   "outputs": [],
   "source": [
    "optimized_tree.best_estimator_"
   ]
  },
  {
   "cell_type": "code",
   "execution_count": null,
   "metadata": {},
   "outputs": [],
   "source": [
    "final_model = optimized_tree.best_estimator_"
   ]
  },
  {
   "cell_type": "code",
   "execution_count": null,
   "metadata": {},
   "outputs": [],
   "source": [
    "y_test_pred = final_model.predict(x_test)\n",
    "print('Test accuracy = ', metrics.accuracy_score(y_test, y_test_pred))"
   ]
  },
  {
   "cell_type": "code",
   "execution_count": null,
   "metadata": {},
   "outputs": [],
   "source": [
    "import pickle\n",
    "pickle.dump(final_model, open('indeed_data.pk', 'wb'))"
   ]
  },
  {
   "cell_type": "code",
   "execution_count": null,
   "metadata": {},
   "outputs": [],
   "source": []
  }
 ],
 "metadata": {
  "kernelspec": {
   "display_name": "Python 3",
   "language": "python",
   "name": "python3"
  },
  "language_info": {
   "codemirror_mode": {
    "name": "ipython",
    "version": 3
   },
   "file_extension": ".py",
   "mimetype": "text/x-python",
   "name": "python",
   "nbconvert_exporter": "python",
   "pygments_lexer": "ipython3",
   "version": "3.7.3"
  }
 },
 "nbformat": 4,
 "nbformat_minor": 2
}
